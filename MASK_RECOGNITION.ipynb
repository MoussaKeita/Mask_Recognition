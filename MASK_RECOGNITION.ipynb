{
 "cells": [
  {
   "cell_type": "code",
   "execution_count": 13,
   "metadata": {},
   "outputs": [],
   "source": [
    "import cv2\n",
    "import os\n",
    "import numpy as np"
   ]
  },
  {
   "cell_type": "code",
   "execution_count": 18,
   "metadata": {},
   "outputs": [
    {
     "name": "stdout",
     "output_type": "stream",
     "text": [
      "{'with mask': 0, 'without mask': 1}\n",
      "['with mask', 'without mask']\n",
      "[0, 1]\n"
     ]
    }
   ],
   "source": [
    "#1.DATA PREPROCESSING\n",
    "data_path = \"./Desktop/dataset\"\n",
    "categories = os.listdir(data_path)# select tous les types(fichier et dossier) du contenu \"dataset\": ici on a 2 dossier: with&withoutmask\n",
    "label = [i for i in range(len(categories))] #la longueur du dosier: 2(with_mask and without_mask) c à d: 0 et 1 index\n",
    "\n",
    "label_dict = dict(zip(categories,label)) #un dictionnaire contenant les deux variables\n",
    "\n",
    "print(label_dict)\n",
    "print(categories)\n",
    "print(label)"
   ]
  },
  {
   "cell_type": "code",
   "execution_count": 19,
   "metadata": {},
   "outputs": [],
   "source": [
    "img_size = 100\n",
    "data = []\n",
    "target = []\n",
    "\n",
    "for category in categories:\n",
    "    folder_path = os.path.join(data_path , category)#dossier et sous-dossier\n",
    "    img_names = os.listdir(folder_path) #selection de tous les types de fichier dans folder_path\n",
    "    for img_name in img_names:\n",
    "        img_path = os.path.join(folder_path, img_name)\n",
    "        img = cv2.imread(img_path)\n",
    "        \n",
    "        try:\n",
    "            gray = cv2.cvtColor(img , cv2.COLOR_BGR2GRAY)#Coverting the image into gray scale\n",
    "            resize = cv2.resize(gray , (img_size,img_size))#resizing the gray scale into 100x100, since we need a fixed common size for all the images in the dataset\n",
    "            data.append(resize)\n",
    "            target.append(label_dict[category])#appending the image and the label(categorized[with_mask or with_out]) into the list (dataset)\n",
    "        except Exception as e:\n",
    "            print(\"Exception\",e) #if any exception rasied, the exception will be printed here. And pass to the next image"
   ]
  },
  {
   "cell_type": "code",
   "execution_count": 20,
   "metadata": {},
   "outputs": [],
   "source": [
    "#feature scaling\n",
    "data = np.array(data)/255.0 #tableau numpy\n",
    "#redimension\n",
    "data = np.reshape(data, (data.shape[0],img_size,img_size,1))\n",
    "target = np.array(target) #tableau numpy\n",
    "\n",
    "from keras.utils import np_utils\n",
    "#on va convertir la variable target en categorical\n",
    "new_target = np_utils.to_categorical(target)"
   ]
  },
  {
   "cell_type": "code",
   "execution_count": 21,
   "metadata": {},
   "outputs": [],
   "source": [
    "#sauvegarde de nos données\n",
    "np.save('data',data)\n",
    "np.save('target',new_target)"
   ]
  },
  {
   "cell_type": "code",
   "execution_count": 11,
   "metadata": {},
   "outputs": [],
   "source": []
  },
  {
   "cell_type": "code",
   "execution_count": null,
   "metadata": {},
   "outputs": [],
   "source": []
  },
  {
   "cell_type": "code",
   "execution_count": null,
   "metadata": {},
   "outputs": [],
   "source": []
  }
 ],
 "metadata": {
  "kernelspec": {
   "display_name": "Python 3",
   "language": "python",
   "name": "python3"
  },
  "language_info": {
   "codemirror_mode": {
    "name": "ipython",
    "version": 3
   },
   "file_extension": ".py",
   "mimetype": "text/x-python",
   "name": "python",
   "nbconvert_exporter": "python",
   "pygments_lexer": "ipython3",
   "version": "3.7.7"
  }
 },
 "nbformat": 4,
 "nbformat_minor": 4
}
