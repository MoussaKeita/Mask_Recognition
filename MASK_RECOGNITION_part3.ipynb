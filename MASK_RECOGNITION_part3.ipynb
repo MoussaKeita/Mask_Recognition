{
 "cells": [
  {
   "cell_type": "code",
   "execution_count": 1,
   "metadata": {},
   "outputs": [
    {
     "name": "stderr",
     "output_type": "stream",
     "text": [
      "Using TensorFlow backend.\n"
     ]
    }
   ],
   "source": [
    "from keras.models import load_model\n",
    "import cv2\n",
    "import numpy as np\n",
    "import time\n",
    "start = time.time()"
   ]
  },
  {
   "cell_type": "code",
   "execution_count": 2,
   "metadata": {},
   "outputs": [],
   "source": [
    "# chargement du model\n",
    "model = load_model('model-017.model')\n",
    "#model = load_model('model-00223.model')\n",
    "\n",
    "face_classifier = cv2.CascadeClassifier('haarcascade_frontalface_default.xml') #chargement du fichier pom\n",
    "\n",
    "video = cv2.VideoCapture(0) #video: source\n",
    "#video = cv2.VideoCapture('mask.mp4')\n",
    "#fps = video.get(cv2.CAP_PROP_FPS)\n",
    "#frameref_ms = int(time.time()*1000)\n",
    "#frametime_ms = int(1000/fps)\n",
    "#declaration du variable dictionnaire\n",
    "labels_dict = {0 : 'Mask', 1: 'No Mask'}\n",
    "color_dict = {0 : (0,255,0), 1: (0,0,255)} #(0,255,0):vert , } #(0,0,255):rouge"
   ]
  },
  {
   "cell_type": "code",
   "execution_count": 3,
   "metadata": {},
   "outputs": [
    {
     "ename": "KeyboardInterrupt",
     "evalue": "",
     "output_type": "error",
     "traceback": [
      "\u001b[1;31m---------------------------------------------------------------------------\u001b[0m",
      "\u001b[1;31mKeyboardInterrupt\u001b[0m                         Traceback (most recent call last)",
      "\u001b[1;32m<ipython-input-3-22497f7beb6c>\u001b[0m in \u001b[0;36m<module>\u001b[1;34m\u001b[0m\n\u001b[0;32m      3\u001b[0m     \u001b[0mret\u001b[0m\u001b[1;33m,\u001b[0m\u001b[0mimg\u001b[0m \u001b[1;33m=\u001b[0m \u001b[0mvideo\u001b[0m\u001b[1;33m.\u001b[0m\u001b[0mread\u001b[0m\u001b[1;33m(\u001b[0m\u001b[1;33m)\u001b[0m \u001b[1;31m#lecture de la vidéo\u001b[0m\u001b[1;33m\u001b[0m\u001b[1;33m\u001b[0m\u001b[0m\n\u001b[0;32m      4\u001b[0m     \u001b[0mgray\u001b[0m \u001b[1;33m=\u001b[0m \u001b[0mcv2\u001b[0m\u001b[1;33m.\u001b[0m\u001b[0mcvtColor\u001b[0m\u001b[1;33m(\u001b[0m\u001b[0mimg\u001b[0m \u001b[1;33m,\u001b[0m \u001b[0mcv2\u001b[0m\u001b[1;33m.\u001b[0m\u001b[0mCOLOR_BGR2GRAY\u001b[0m\u001b[1;33m)\u001b[0m\u001b[1;33m\u001b[0m\u001b[1;33m\u001b[0m\u001b[0m\n\u001b[1;32m----> 5\u001b[1;33m     \u001b[0mfaces\u001b[0m \u001b[1;33m=\u001b[0m \u001b[0mface_classifier\u001b[0m\u001b[1;33m.\u001b[0m\u001b[0mdetectMultiScale\u001b[0m\u001b[1;33m(\u001b[0m\u001b[0mgray\u001b[0m \u001b[1;33m,\u001b[0m \u001b[1;36m1.3\u001b[0m\u001b[1;33m,\u001b[0m\u001b[1;36m5\u001b[0m\u001b[1;33m)\u001b[0m\u001b[1;33m\u001b[0m\u001b[1;33m\u001b[0m\u001b[0m\n\u001b[0m\u001b[0;32m      6\u001b[0m    \u001b[1;31m# if ret == True:\u001b[0m\u001b[1;33m\u001b[0m\u001b[1;33m\u001b[0m\u001b[1;33m\u001b[0m\u001b[0m\n\u001b[0;32m      7\u001b[0m        \u001b[1;31m# frame_new = img\u001b[0m\u001b[1;33m\u001b[0m\u001b[1;33m\u001b[0m\u001b[1;33m\u001b[0m\u001b[0m\n",
      "\u001b[1;31mKeyboardInterrupt\u001b[0m: "
     ]
    }
   ],
   "source": [
    "while(True):\n",
    "    \n",
    "    ret,img = video.read() #lecture de la vidéo\n",
    "    gray = cv2.cvtColor(img , cv2.COLOR_BGR2GRAY)\n",
    "    faces = face_classifier.detectMultiScale(gray , 1.3,5)\n",
    "   # if ret == True:\n",
    "       # frame_new = img\n",
    "   # else:\n",
    "      #  end = time.time()\n",
    "    for (x,y,w,h) in faces:\n",
    "        face_img = gray[y : y+w, x :x+w]\n",
    "        resize = cv2.resize(face_img , (100,100))#redimension\n",
    "        normalize = resize/255.0 #normalization\n",
    "        reshape = np.reshape(normalize, (1, 100 , 100,1))\n",
    "        result = model.predict(reshape)\n",
    "        \n",
    "        label =np.argmax(result ,axis =1,)[0]\n",
    "        #cv2.rectangle(image, start_point, end_point, color, thickness)\n",
    "        cv2.rectangle(img,(x,y),(x+w, y+h), color_dict[label],2)\n",
    "        cv2.rectangle(img,(x,y-40),(x+w,y), color_dict[label],-1)\n",
    "        #cv2.putText(image, text, org, font, fontScale, color[, thickness[, lineType[, bottomLeftOrigin]]])\n",
    "        cv2.putText(img, labels_dict[label], (x, y-10),cv2.FONT_HERSHEY_SIMPLEX,0.8,(255,255,255),2)\n",
    "    \n",
    "    #on sort de la boucle\n",
    "    cv2.imshow('MASK DECTECTION',img)\n",
    "    #cv2.imshow('MASK DECTECTION',frame_new)\n",
    "    key = cv2.waitKey(1)\n",
    "    #key = cv2.waitKey(int(round(1000/fps))) & 0xFF\n",
    "    #Donc, si vous utilisez, waitKey(0)vous voyez une image fixe jusqu'à ce que vous appuyiez sur \n",
    "    #quelque chose tandis que waitKey(1)la fonction affichera un cadre pendant 1 ms seulement.\n",
    "    if key ==27:\n",
    "        break\n",
    "#on sort de la boucle while\n",
    "video.release()\n",
    "cv2.destroyAllWindows()"
   ]
  },
  {
   "cell_type": "code",
   "execution_count": null,
   "metadata": {},
   "outputs": [],
   "source": []
  }
 ],
 "metadata": {
  "kernelspec": {
   "display_name": "Python 3",
   "language": "python",
   "name": "python3"
  },
  "language_info": {
   "codemirror_mode": {
    "name": "ipython",
    "version": 3
   },
   "file_extension": ".py",
   "mimetype": "text/x-python",
   "name": "python",
   "nbconvert_exporter": "python",
   "pygments_lexer": "ipython3",
   "version": "3.6.10"
  }
 },
 "nbformat": 4,
 "nbformat_minor": 4
}
