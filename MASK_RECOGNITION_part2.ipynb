{
 "cells": [
  {
   "cell_type": "code",
   "execution_count": 12,
   "metadata": {},
   "outputs": [],
   "source": [
    "#TRAINING THE MODEL WITH CNN: CONVOLUTIONNAL NEURAL NETWORK\n",
    "import numpy as np"
   ]
  },
  {
   "cell_type": "code",
   "execution_count": 13,
   "metadata": {},
   "outputs": [],
   "source": [
    "#chargement de nos données: qui sont des tableaux numpy: numpy array\n",
    "data = np.load('data.npy') \n",
    "target = np.load('target.npy')"
   ]
  },
  {
   "cell_type": "code",
   "execution_count": 14,
   "metadata": {},
   "outputs": [],
   "source": [
    "from keras.models import Sequential\n",
    "from keras.layers import Flatten,Dense,Activation,Dropout\n",
    "from keras.layers import Conv2D,MaxPooling2D\n",
    "from keras.callbacks import ModelCheckpoint"
   ]
  },
  {
   "cell_type": "code",
   "execution_count": 16,
   "metadata": {},
   "outputs": [],
   "source": [
    "# let's have fun !\n",
    "model = Sequential()\n",
    "#The first CNN layer followed by Relu and MaxPooling layers: layers = couche\n",
    "model.add(Conv2D(200, (3,3), input_shape = data.shape[1:]))#conv2D(init, windows_size,input_shape)\n",
    "model.add(Activation('relu'))\n",
    "model.add(MaxPooling2D(pool_size = (2,2)))\n",
    "\n",
    "#The second CNN layer followed by Relu and MaxPooling layers: layers = couche\n",
    "model.add(Conv2D(100, (3,3)))#conv2D(init, windows_size,input_shape)\n",
    "model.add(Activation('relu'))\n",
    "model.add(MaxPooling2D(pool_size = (2,2)))\n",
    "\n",
    "#ajout de la couche flatten pour empiler(sous forme applatit) la 2eme couche \n",
    "model.add(Flatten())\n",
    "model.add(Dropout(0.5))#pour predir l'over-fitting( suppression de 50% de certains neurones)\n",
    "#Ajout des couches Dense ou Dense layer:\n",
    "model.add(Dense(50, activation ='relu')) # avec 50 neurones\n",
    "model.add(Dense(2, activation ='softmax')) #la couche finale with 2output: 2 sorties"
   ]
  },
  {
   "cell_type": "code",
   "execution_count": 17,
   "metadata": {},
   "outputs": [],
   "source": [
    "#Compilation\n",
    "model.compile(loss='categorical_crossentropy',\n",
    "              optimizer = 'adam',\n",
    "              metrics=['accuracy']\n",
    ")"
   ]
  },
  {
   "cell_type": "code",
   "execution_count": 18,
   "metadata": {},
   "outputs": [],
   "source": [
    "from sklearn.model_selection import train_test_split"
   ]
  },
  {
   "cell_type": "code",
   "execution_count": 19,
   "metadata": {},
   "outputs": [],
   "source": [
    "x_train,x_test , y_train, y_test = train_test_split(data, target, test_size=0.1)"
   ]
  },
  {
   "cell_type": "code",
   "execution_count": 22,
   "metadata": {},
   "outputs": [
    {
     "name": "stdout",
     "output_type": "stream",
     "text": [
      "Train on 990 samples, validate on 248 samples\n",
      "Epoch 1/20\n",
      "990/990 [==============================] - 2204s 2s/step - loss: 0.7124 - accuracy: 0.5323 - val_loss: 0.6558 - val_accuracy: 0.5323\n",
      "Epoch 2/20\n",
      "990/990 [==============================] - 4226s 4s/step - loss: 0.5671 - accuracy: 0.6939 - val_loss: 0.4335 - val_accuracy: 0.8750\n",
      "Epoch 3/20\n",
      "990/990 [==============================] - 3046s 3s/step - loss: 0.4440 - accuracy: 0.8101 - val_loss: 0.3114 - val_accuracy: 0.8992\n",
      "Epoch 4/20\n",
      "990/990 [==============================] - 2430s 2s/step - loss: 0.2907 - accuracy: 0.8798 - val_loss: 0.2650 - val_accuracy: 0.9234\n",
      "Epoch 5/20\n",
      "990/990 [==============================] - 8315s 8s/step - loss: 0.1922 - accuracy: 0.9293 - val_loss: 0.1779 - val_accuracy: 0.9395\n",
      "Epoch 6/20\n",
      "990/990 [==============================] - 1786s 2s/step - loss: 0.1447 - accuracy: 0.9465 - val_loss: 0.2396 - val_accuracy: 0.9073\n",
      "Epoch 7/20\n",
      "990/990 [==============================] - 1836s 2s/step - loss: 0.1461 - accuracy: 0.9414 - val_loss: 0.3149 - val_accuracy: 0.8750\n",
      "Epoch 8/20\n",
      "990/990 [==============================] - 1726s 2s/step - loss: 0.1279 - accuracy: 0.9576 - val_loss: 0.1625 - val_accuracy: 0.9476\n",
      "Epoch 9/20\n",
      "990/990 [==============================] - 3361s 3s/step - loss: 0.0952 - accuracy: 0.9667 - val_loss: 0.1980 - val_accuracy: 0.9274\n",
      "Epoch 10/20\n",
      "990/990 [==============================] - 1993s 2s/step - loss: 0.0882 - accuracy: 0.9697 - val_loss: 0.1501 - val_accuracy: 0.9476\n",
      "Epoch 11/20\n",
      "990/990 [==============================] - 2085s 2s/step - loss: 0.0414 - accuracy: 0.9879 - val_loss: 0.1936 - val_accuracy: 0.9476\n",
      "Epoch 12/20\n",
      "990/990 [==============================] - 2566s 3s/step - loss: 0.0619 - accuracy: 0.9788 - val_loss: 0.1608 - val_accuracy: 0.9435\n",
      "Epoch 13/20\n",
      "990/990 [==============================] - 3052s 3s/step - loss: 0.0507 - accuracy: 0.9838 - val_loss: 0.1898 - val_accuracy: 0.9435\n",
      "Epoch 14/20\n",
      "990/990 [==============================] - 3339s 3s/step - loss: 0.0437 - accuracy: 0.9828 - val_loss: 0.1238 - val_accuracy: 0.9677\n",
      "Epoch 15/20\n",
      "990/990 [==============================] - 2861s 3s/step - loss: 0.0257 - accuracy: 0.9919 - val_loss: 0.1852 - val_accuracy: 0.9516\n",
      "Epoch 16/20\n",
      "990/990 [==============================] - 8084s 8s/step - loss: 0.0222 - accuracy: 0.9899 - val_loss: 0.2333 - val_accuracy: 0.9435\n",
      "Epoch 17/20\n",
      "990/990 [==============================] - 2155s 2s/step - loss: 0.0315 - accuracy: 0.9929 - val_loss: 0.1599 - val_accuracy: 0.9597\n",
      "Epoch 18/20\n",
      "990/990 [==============================] - 27327s 28s/step - loss: 0.0188 - accuracy: 0.9919 - val_loss: 0.1906 - val_accuracy: 0.9516\n",
      "Epoch 19/20\n",
      "990/990 [==============================] - 5631s 6s/step - loss: 0.0107 - accuracy: 0.9990 - val_loss: 0.2270 - val_accuracy: 0.9476\n",
      "Epoch 20/20\n",
      "990/990 [==============================] - 2618s 3s/step - loss: 0.0134 - accuracy: 0.9960 - val_loss: 0.1981 - val_accuracy: 0.9597\n"
     ]
    }
   ],
   "source": [
    "checkpoint = ModelCheckpoint('model-{epoch:03d}.model',monitor='val_loss',verbose=0,save_best_only=True,mode='auto')\n",
    "#entrainement du model\n",
    "history = model.fit(x_train,y_train , epochs=20 , validation_split=0.2, callbacks = [checkpoint])"
   ]
  },
  {
   "cell_type": "code",
   "execution_count": 23,
   "metadata": {},
   "outputs": [],
   "source": [
    "import matplotlib.pyplot as plt"
   ]
  },
  {
   "cell_type": "code",
   "execution_count": 27,
   "metadata": {},
   "outputs": [
    {
     "data": {
      "image/png": "[encoded data removed]",
      "text/plain": [
       "<Figure size 432x288 with 1 Axes>"
      ]
     },
     "metadata": {
      "needs_background": "light"
     },
     "output_type": "display_data"
    }
   ],
   "source": [
    "#visualization for loss\n",
    "plt.plot(history.history['loss'], 'r',label ='training loss')\n",
    "plt.plot(history.history['val_loss'], label ='validation loss')\n",
    "plt.xlabel('# epochs', color='white')\n",
    "plt.ylabel('loss',color ='white')\n",
    "plt.legend()\n",
    "plt.show()"
   ]
  },
  {
   "cell_type": "code",
   "execution_count": 28,
   "metadata": {},
   "outputs": [
    {
     "data": {
      "image/png": "[encoded data removed]",
      "text/plain": [
       "<Figure size 432x288 with 1 Axes>"
      ]
     },
     "metadata": {
      "needs_background": "light"
     },
     "output_type": "display_data"
    }
   ],
   "source": [
    "#visualization for accuracy\n",
    "plt.plot(history.history['accuracy'], 'r',label ='training accuracy')\n",
    "plt.plot(history.history['val_accuracy'], label ='validation accuracy')\n",
    "plt.xlabel('# epochs',color ='white')\n",
    "plt.ylabel('loss',color ='white')\n",
    "plt.legend()\n",
    "plt.show()"
   ]
  },
  {
   "cell_type": "code",
   "execution_count": 29,
   "metadata": {},
   "outputs": [
    {
     "name": "stdout",
     "output_type": "stream",
     "text": [
      "138/138 [==============================] - 118s 858ms/step\n",
      "[0.1906526548706967, 0.95652174949646]\n"
     ]
    }
   ],
   "source": [
    "#evaluation du model\n",
    "print(model.evaluate(x_test,y_test))"
   ]
  },
  {
   "cell_type": "code",
   "execution_count": 30,
   "metadata": {},
   "outputs": [],
   "source": [
    "# Sauvegarde\n",
    "model.save('model-017.model')"
   ]
  },
  {
   "cell_type": "code",
   "execution_count": null,
   "metadata": {},
   "outputs": [],
   "source": []
  }
 ],
 "metadata": {
  "kernelspec": {
   "display_name": "Python 3",
   "language": "python",
   "name": "python3"
  },
  "language_info": {
   "codemirror_mode": {
    "name": "ipython",
    "version": 3
   },
   "file_extension": ".py",
   "mimetype": "text/x-python",
   "name": "python",
   "nbconvert_exporter": "python",
   "pygments_lexer": "ipython3",
   "version": "3.7.7"
  }
 },
 "nbformat": 4,
 "nbformat_minor": 4
}
